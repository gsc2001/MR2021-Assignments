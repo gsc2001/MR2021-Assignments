{
 "cells": [
  {
   "cell_type": "markdown",
   "id": "923b2b53",
   "metadata": {},
   "source": [
    "# Assignment 3: ICP + Non-linear least squares optimization\n",
    "\n",
    "TEAM-NAME: \n",
    "\n",
    "YOUR-ID: \n",
    "\n",
    "YOUR-NAME:\n",
    "\n",
    "## Instructions\n",
    "\n",
    "* You are not allowed to use any external libraries (other than ones being imported below).\n",
    "* The deadline for this assignment is **15-09-21** at 11:55pm.\n",
    "* Plagiarism is **strictly prohibited**"
   ]
  },
  {
   "cell_type": "code",
   "execution_count": 1,
   "id": "c3d87e25",
   "metadata": {},
   "outputs": [],
   "source": [
    "import math\n",
    "import numpy as np\n",
    "import matplotlib.pyplot as plt"
   ]
  },
  {
   "cell_type": "markdown",
   "id": "aefe6b28",
   "metadata": {},
   "source": [
    "# Non Linear Least Squares Optimization"
   ]
  },
  {
   "cell_type": "markdown",
   "id": "bad85b68",
   "metadata": {},
   "source": [
    "## 1.1 Gradient Descent\n",
    "Implement the gradient descent algorithm using numpy and what you have learned from class to solve for the parameters of a gaussian distribution.\n",
    "To understand the task in more detail and look at a worked through example, checkout the subsequent section. You have to implement the same using just numpy functions. You can refer to [Shubodh's notes](https://www.notion.so/saishubodh/From-linear-algebra-to-non-linear-weighted-least-squares-optimization-13cf17d318be4d45bb8577c4d3ea4a02) on the same to get a better grasp of the concept before implementing it.\n",
    "* Experiment with the number of iterations.\n",
    "* Experiment with the learning rate.\n",
    "* Experiment with the tolerance.\n",
    "\n",
    "Display your results using matplotlib by plotting graphs for \n",
    "* The cost function value vs the number of iterations\n",
    "* The Ground Truth data values and the predicted data values.\n",
    "\n",
    "Your plots are expected to contain information similar to the plot below:\n",
    "\n",
    "<!-- <figure> -->\n",
    "<img src='./helpers/sample_plt.png' alt=drawing width=500 height=600>\n",
    "\n",
    "<!-- <figcaption align='center'><b>A sample plot, you can use your own plotting template</b></figcaption>\n",
    "</figure> -->\n",
    "<!-- head over to [this page](https://saishubodh.notion.site/Non-Linear-Least-Squares-Solved-example-Computing-Jacobian-for-a-Gaussian-Gradient-Descent-7fd11ebfee034f8ca89cc78c8f1d24d9) -->"
   ]
  },
  {
   "cell_type": "markdown",
   "id": "554f407b",
   "metadata": {},
   "source": [
    "## Worked out Example using Gradient Descent\n",
    "\n",
    "A Gaussian distribution parametrized by $a,m,s$ is given by:\n",
    "\n",
    "$$ y(x;a,m,s)=a \\exp \\left(\\frac{-(x-m)^{2}}{2 s^{2}}\\right) \\tag{1}$$\n",
    "\n",
    "### Jacobian of Gaussian\n",
    "\n",
    "$$\\mathbf{J}_y=\\left[\\frac{\\partial y}{\\partial a} \\quad \\frac{\\partial y}{\\partial m} \\quad \\frac{\\partial y}{\\partial s}\\right] \\\\\n",
    "= \\left[ \\exp \\left(\\frac{-(x-m)^{2}}{2 s^{2}}\\right); \\frac{a (x-m)}{s^2} \\exp\\left(\\frac{-(x-m)^{2}}{2 s^{2}}\\right);  \\frac{a (x-m)^2}{s^3}\\exp \\left(\\frac{-(x-m)^{2}}{2 s^{2}}\\right)\\right]$$\n",
    "\n",
    "## Problem at hand\n",
    "\n",
    "> Given a set of observations $y_{obs}$ and $x_{obs}$ we want to find the optimum parameters $a,m,s$ which best fit our observations given an initial estimate.\n",
    "\n",
    "Our observations would generally be erroneous and given to us, but for the sake of knowing how good our model is performing, let us generate the observations ourselves by assuming the actual \"actual\" parameter values as $a_{gt}=10; m_{gt} =0; s_{gt} =20$ ($gt$ stands for ground truth). We will try to estimate these values based on our observations and let us see how close we get to \"actual\" parameters. Note that in reality we obviously don't have these parameters as that is exactly what we want to estimate in the first place. So let us consider the following setup, we have:\n",
    "\n",
    "- Number of observations, $num\\_obs = 50$\n",
    "- Our 50 set of observations would be\n",
    "    - $x_{obs} = np.linspace(-25,25, num\\_obs)$\n",
    "    - $y_{obs} = y(x_{obs};a_{gt},m_{gt},s_{gt})$  from $(1)$\n",
    "\n",
    "Reference:\n",
    "\n",
    "→[linspace](https://numpy.org/doc/stable/reference/generated/numpy.linspace.html)\n",
    "\n",
    "- Say we are given initial estimate as:\n",
    "\n",
    "    $$a_0=10; \\quad m_0=13; \\quad s_0=19.12$$\n",
    "\n",
    "### Residual and error to be minimized\n",
    "\n",
    "Okay, now we have set of observations and an initial estimate of parameters. We would now want to minimize an error that would give us optimum parameters.\n",
    "\n",
    "The $residual$ would be given by\n",
    "\n",
    "$$ r(a,m,s) = \\left[ a \\exp \\left(\\frac{-(x_{obs}-m)^{2}}{2 s^{2}}\\right) - y_{obs}\\ \\right]$$\n",
    "\n",
    "where we'd want to minimize $\\|r\\|^2$. Note that $r$ is a non-linear function in $(a,m,s)$.\n",
    "\n",
    "Also, note that since $y$ (and $x$) are observations in the above equation, after simplification, we get $\\mathbf{J}_r = \\mathbf{J}_y$ [above](https://www.notion.so/c9e6f71b67a44bb8b366df2fccfc12d0) (since $y_{obs}$ is a constant).\n",
    "\n",
    "Let us apply Gradient Descent method for minimization here. From [Table I](https://www.notion.so/From-linear-algebra-to-non-linear-weighted-least-squares-optimization-13cf17d318be4d45bb8577c4d3ea4a02),  \n",
    "\n",
    "$$\\Delta \\mathbf{k} = - \\alpha \\mathbf{J_F} = -\\alpha \\mathbf{J}_r^{\\top} {r}(\\mathbf{k})$$\n",
    "\n",
    "Note that $\\mathbf{J_F}$ is the Jacobian of \"non-linear least squares\" function $\\mathbf{F}$ while $\\mathbf{J}_r$ is the Jacobian of the residual. \n",
    "\n",
    "where $\\mathbf{k}$ is $[a,m,s]^T$. \n",
    "\n",
    "- Some hyperparameters:\n",
    "    - Learning rate, $lr = 0.01$\n",
    "    - Maximum number of iterations, $num\\_iter=200$\n",
    "    - Tolerance, $tol = 1e-15$\n",
    "\n",
    "## Solution for 1 iteration\n",
    "\n",
    "To see how each step looks like, let us solve for 1 iteration and for simpler calculations, assume we have 3 observations, \n",
    "\n",
    "$$x_{obs}= \\left[ -25, 0, 25 \\right]^T, y_{obs} = \\left[  4.5783, 10, 4.5783 \\right]^T. $$\n",
    "\n",
    "With our initial estimate as $\\mathbf{k_0} = [a_0=10, \\quad m_0=13, \\quad s_0=19.12]^T$, the residual would be \n",
    "\n",
    "$$ r(a_0,m_0,s_0) = \\left[ a_0 \\exp \\left(\\frac{-(x_{obs}-m_0)^{2}}{2 s_0^{2}}\\right) - y_{obs}\\ \\right]$$\n",
    "\n",
    "Therefore, $r=[-3.19068466, -2.0637411 , 3.63398058]^T$.\n",
    "\n",
    "### Gradient Computation\n",
    "\n",
    "Gradient, $\\mathbf{J_F}$=\n",
    "\n",
    "$$\\mathbf{J_r}^{\\top} \\mathbf{r}(\\mathbf{k})$$\n",
    "\n",
    "We have calculated residual already [above](https://www.notion.so/c9e6f71b67a44bb8b366df2fccfc12d0), let us calculate the Jacobian $\\mathbf{J_r}$.\n",
    "\n",
    "$$\\mathbf{J}_r\n",
    "= \\left[ \\exp \\left(\\frac{-(x-m)^{2}}{2 s^{2}}\\right); \\frac{a (x-m)}{s^2} \\exp\\left(\\frac{-(x-m)^{2}}{2 s^{2}}\\right);  \\frac{a (x-m)^2}{s^3}\\exp \\left(\\frac{-(x-m)^{2}}{2 s^{2}}\\right)\\right]$$\n",
    "\n",
    "$$\\implies \\mathbf{J_r} = \\left[ \\begin{array}{rrr}0.1387649 & 0.79362589, & 0.82123142 \\\\-0.14424057 & -0.28221715  & 0.26956967 \\\\0.28667059 & 0.19188405, & 0.16918599\\end{array}\\right]$$\n",
    "\n",
    "So ,\n",
    "\n",
    "$$\\mathbf{J_F} = \\mathbf{J_r}^{\\top} \\mathbf{r}(\\mathbf{k})$$\n",
    "\n",
    "$$\\mathbf{r}(\\mathbf{k}) =  \\left[ \\begin{array}{r}-3.19068466 \\\\ -2.0637411 \\\\ 3.63398058 \\end{array} \\right]$$\n",
    "\n",
    "$$ \\begin{aligned} \\implies \\mathbf{J_F} = \\left[ \\begin{array}{r} 0.89667553 \\\\ -1.25248392 \\\\-2.56179392\\end{array} \\right] \\end{aligned}$$\n",
    "\n",
    "### Update step\n",
    "\n",
    "$$\n",
    "\\Delta \\mathbf{k} = - \\alpha \\mathbf{J_F} \\\\\n",
    "\\mathbf{k}^{t+1} = \\mathbf{k}^t + \\Delta \\mathbf{k}\n",
    "$$\n",
    "\n",
    "Here, $\\alpha$ our learning rate is 0.01.\n",
    "\n",
    "$$\n",
    "\\Delta \\mathbf{k} = - \\alpha\\times\\left[ \\begin{array}{r} \n",
    "0.89667553 \\\\ -1.25248392 \\\\-2.56179392\n",
    "\\end{array} \\right] = \\left[ \\begin{array}{r}\n",
    "-0.00896676 \\\\ 0.01252484 \\\\0.02561794\n",
    "\\end{array}\\right]\n",
    "$$\n",
    "\n",
    "$$\n",
    "\\mathbf{k}^{1} = \\mathbf{k}^{0} + \\Delta \\mathbf{k} \\\\ \\left[\\begin{array}{r} 10 \\\\ 13 \\\\ 19.12 \\end{array}\\right] + \\left[\\begin{array}{c} 9.99103324 \\\\ 13.01252484 \\\\ 19.14561794 \\end{array} \\right]\n",
    "$$\n",
    "\n",
    "With just one iteration with very few observations, we can see that we have gotten *slightly* more closer to our GT parameter  $a_{gt}=10; m_{gt} =0; s_{gt} =20$. Our initial estimate was $[a_0=10, \\quad m_0=13, \\quad s_0=19.12]$. However, the above might not be noticeable enough: Hence you need to code it for more iterations and convince yourself as follows:"
   ]
  },
  {
   "cell_type": "code",
   "execution_count": 2,
   "id": "116a3a34",
   "metadata": {},
   "outputs": [],
   "source": [
    "from helpers.func import make_gaussian"
   ]
  },
  {
   "cell_type": "markdown",
   "id": "b16255d1",
   "metadata": {},
   "source": [
    "## 1.2: Another Non-Linear function\n",
    "Now that you've got the hang of computing the jacobian matrix for a non-linear function via the aid of an example, try to compute the jacobian of a secondary gaussian function by carrying out steps similar to what has been shown above. The function is plotted below:\n",
    "<img src='./helpers/non_linear.png' alt=drawing width=500 height=600>\n",
    "Using the computed jacobian, optimise for the four parameters using gradient descent, where the parameters to be estimated are: \n",
    "\n",
    "$p_1$ = 2,  $p_2$ = 8,  $p_3$ = 4,  $p_4$ = 8. \n",
    "\n",
    "Do this for $x_{obs} = np.linspace(-20,30, num\\_obs)$,\n",
    "where $num\\_obs$ is 50.\n",
    "\n"
   ]
  },
  {
   "cell_type": "code",
   "execution_count": null,
   "id": "5f96a788",
   "metadata": {},
   "outputs": [],
   "source": [
    "from helpers.func import make_non_linear"
   ]
  },
  {
   "cell_type": "markdown",
   "id": "fd385b3a",
   "metadata": {},
   "source": [
    "## 1.3: Different Optimizers\n",
    "\n",
    "Replace gradient descent with Gauss-Newton and Levenberg Marquardt algorithms and repeat question 1.1. \n",
    "\n",
    "To quickly recap, Gauss-Newton and Levenberg Marquardt are alternate update rules to the standard gradient descent. Gauss Newton updates work as:\n",
    "\n",
    "$$\\delta x = -(J^TJ)^{-1}J^Tf(x)$$\n",
    "\n",
    "Levenberg Marquardt lies somewhere between Gauss Newton and Gradient Descent algorithms by blending the two formulations. As a result, when at a steep cliff, LM takes small steps to avoid overshooting, and when at a gentle slope, LM takes bigger steps:\n",
    "\n",
    "\n",
    "$$\\delta x = -(J^TJ + \\lambda I)^{-1}J^Tf(x)$$"
   ]
  },
  {
   "cell_type": "markdown",
   "id": "e3dcdef5",
   "metadata": {},
   "source": [
    "**Questions**\n",
    "   * 1. How does the choice of initial estimate and learning rate affect convergence? Observations and analysis from repeated runs with modified hyperparameters will suffice.\n",
    "   * 2. Do you notice any difference between the three optimizers? Why do you think that is? (If you are unable to see a clear trend, what would you expect in general based on what you know about them)"
   ]
  },
  {
   "cell_type": "code",
   "execution_count": null,
   "id": "a3c24901",
   "metadata": {},
   "outputs": [],
   "source": []
  },
  {
   "cell_type": "markdown",
   "id": "9335ac7a",
   "metadata": {},
   "source": [
    "# 2. Iterative Closest Point\n",
    "\n",
    "In this subsection, we will code the Iterative Closest Point algorithm to find the alignment between two point clouds without known correspondences. The point cloud that you will be using is the same as the one that you used in Assignment 1.\n",
    "\n",
    "## 2.1: Procrustes alignment\n",
    "\n",
    "1. Write a function that takes two point clouds as input wherein the corresponding points between the two point clouds are located at the same index and returns the transformation matrix between them.\n",
    "2. Use the bunny point cloud and perform the procrustes alignment between the two bunnies. Compute the absolute alignment error after aligning the two bunnies.\n",
    "3. Make sure your code is modular as we will use this function in the next sub-part.\n",
    "4. Prove mathematically why the Procrustes alignment gives the best aligning transform between point clouds with known correspondences.\n"
   ]
  },
  {
   "cell_type": "code",
   "execution_count": 2,
   "id": "44091df2",
   "metadata": {},
   "outputs": [
    {
     "name": "stdout",
     "output_type": "stream",
     "text": [
      "Jupyter environment detected. Enabling Open3D WebVisualizer.\n",
      "[Open3D INFO] WebRTC GUI backend enabled.\n",
      "[Open3D INFO] WebRTCWindowSystem: HTTP handshake server disabled.\n"
     ]
    }
   ],
   "source": [
    "import numpy as np\n",
    "import open3d as o3d\n",
    "import copy\n",
    "import scipy as sp\n",
    "from sklearn.neighbors import KDTree"
   ]
  },
  {
   "cell_type": "markdown",
   "id": "af0e34ac-abc0-4a15-a7b7-3d605c7baa0d",
   "metadata": {},
   "source": [
    "### 2.1.1"
   ]
  },
  {
   "cell_type": "code",
   "execution_count": 3,
   "id": "7e9f26b8-2b53-483d-892a-40cbebdb4bf4",
   "metadata": {},
   "outputs": [],
   "source": [
    "# 3 x N\n",
    "def procrustes_aligment(src, out):\n",
    "    '''\n",
    "    Procrustes aligment to computer transformation src -> out\n",
    "    Arguments:\n",
    "        src: np.array(3xN) -> Initial point cloud\n",
    "        out: np.array(3xN) -> Expected output point cloud\n",
    "    '''\n",
    "    src_center = src.mean(axis=1).reshape((3,1))\n",
    "    out_center = out.mean(axis=1).reshape((3,1))\n",
    "    \n",
    "    src = src - src_center\n",
    "    out = out - out_center\n",
    "    \n",
    "    H = src @ out.T\n",
    "    \n",
    "    u,s,vh = np.linalg.svd(H)\n",
    "    v = vh.T\n",
    "    I = np.eye(3)\n",
    "    if np.linalg.det(v @ u.T) < 0:\n",
    "        I[2,2] = -1\n",
    "    \n",
    "    R = v @ I @ u.T\n",
    "    # print(R.shape)\n",
    "    \n",
    "    t = out_center - R @ src_center\n",
    "    \n",
    "    Tr = np.eye(4)\n",
    "    Tr[0:3,0:3] = R\n",
    "    Tr[0:3,None,3] = t\n",
    "    return Tr, R, t"
   ]
  },
  {
   "cell_type": "markdown",
   "id": "9cd16a72-bf34-4aa4-b14e-e9dcbaed32bd",
   "metadata": {},
   "source": [
    "#### 2.1.2"
   ]
  },
  {
   "cell_type": "code",
   "execution_count": 4,
   "id": "c6a993ad-20e8-4947-a5df-c29f205fcedf",
   "metadata": {},
   "outputs": [
    {
     "data": {
      "text/plain": [
       "PointCloud with 50000 points."
      ]
     },
     "execution_count": 4,
     "metadata": {},
     "output_type": "execute_result"
    }
   ],
   "source": [
    "# get the bunny pcd\n",
    "bunny_mesh = o3d.io.read_triangle_mesh('data/bunny.ply')\n",
    "bunny_mesh.compute_vertex_normals()\n",
    "\n",
    "bunny_pcd = bunny_mesh.sample_points_uniformly(number_of_points=50000)\n",
    "bunny_pcd.paint_uniform_color([0,0,1])\n",
    "# o3d.visualization.draw_geometries([bunny_pcd])\n",
    "# src_pcd"
   ]
  },
  {
   "cell_type": "code",
   "execution_count": 5,
   "id": "f7809b8a-59a5-432e-95c5-70fbbb933c22",
   "metadata": {},
   "outputs": [],
   "source": [
    "# Create src point cloud and co-ordinate frame\n",
    "cf_src = o3d.geometry.TriangleMesh.create_coordinate_frame(size=0.2)\n",
    "src_pcd = copy.deepcopy(bunny_pcd)"
   ]
  },
  {
   "cell_type": "code",
   "execution_count": 45,
   "id": "d5c3cdff-978f-4598-89e4-1ef9bcf3c834",
   "metadata": {},
   "outputs": [
    {
     "data": {
      "text/plain": [
       "array([[ 0.38159996,  0.58993214,  0.71159085,  0.02177703],\n",
       "       [-0.90439676,  0.0792898 ,  0.41926082,  0.17759361],\n",
       "       [ 0.19091354, -0.80355037,  0.5637897 ,  0.1225363 ],\n",
       "       [ 0.        ,  0.        ,  0.        ,  1.        ]])"
      ]
     },
     "execution_count": 45,
     "metadata": {},
     "output_type": "execute_result"
    }
   ],
   "source": [
    "# Compute a random transformation\n",
    "ran_R = sp.spatial.transform.Rotation.random().as_matrix()\n",
    "ran_t = np.random.random((3,1))*0.3\n",
    "Tr_o = np.eye(4)\n",
    "Tr_o[0:3,0:3] = ran_R\n",
    "Tr_o[0:3,3:4] = ran_t \n",
    "Tr_o"
   ]
  },
  {
   "cell_type": "code",
   "execution_count": 25,
   "id": "22449016-86c9-4ae6-b92c-8969381bfc41",
   "metadata": {},
   "outputs": [
    {
     "data": {
      "text/plain": [
       "array([[ 1.,  0.,  0.,  0.],\n",
       "       [ 0.,  0., -1.,  0.],\n",
       "       [ 0.,  1.,  0.,  0.],\n",
       "       [ 0.,  0.,  0.,  1.]])"
      ]
     },
     "execution_count": 25,
     "metadata": {},
     "output_type": "execute_result"
    }
   ],
   "source": [
    "# Uncomment for some certain transformation\n",
    "Tr_o = np.eye(4)\n",
    "Tr_o[0:3,0:3] = np.array([[1,0,0],[0,0,-1],[0,1,0]])\n",
    "Tr_o[:3,3:] = np.array([[0,0,0]]).T\n",
    "# Tr_o[:3,3:] = 0\n",
    "Tr_o"
   ]
  },
  {
   "cell_type": "code",
   "execution_count": 53,
   "id": "dcf49707-de83-48ad-85fe-d9dc3deebbc2",
   "metadata": {},
   "outputs": [],
   "source": [
    "# Transform the result point cloud\n",
    "out_pcd = copy.deepcopy(bunny_pcd)\n",
    "cf_out = copy.deepcopy(cf_src)\n",
    "out_pcd.paint_uniform_color([0,1,0])\n",
    "out_pcd.transform(Tr_o)\n",
    "cf_out.transform(Tr_o)\n",
    "o3d.visualization.draw_geometries([src_pcd, out_pcd, cf_src, cf_out])"
   ]
  },
  {
   "cell_type": "code",
   "execution_count": 27,
   "id": "115450fd-d148-4c66-ae59-5e0b756f2ba8",
   "metadata": {},
   "outputs": [],
   "source": [
    "# Convert to numpy\n",
    "src = np.asarray(src_pcd.points).T\n",
    "out = np.asarray(out_pcd.points).T"
   ]
  },
  {
   "cell_type": "code",
   "execution_count": 28,
   "id": "6d2dfebd-ce1c-4025-aac4-b09e08d3fe15",
   "metadata": {},
   "outputs": [],
   "source": [
    "# Get T, R, t for transformation src -> out i.e out = R @ src + t\n",
    "T, R,t = procrustes_aligment(src, out)"
   ]
  },
  {
   "cell_type": "code",
   "execution_count": 29,
   "id": "256cadb6-f94a-4161-a72a-ef31265a6e86",
   "metadata": {},
   "outputs": [],
   "source": [
    "def draw_pcs(pcds_np, *other_geometries):\n",
    "    pcds = []\n",
    "    for pcd_np in pcds_np:\n",
    "        pcd = o3d.geometry.PointCloud()\n",
    "        pcd.points = o3d.utility.Vector3dVector(pcd_np.T)\n",
    "        color = np.random.random((3,))\n",
    "        pcd.paint_uniform_color([*color])\n",
    "        pcds.append(pcd)\n",
    "    o3d.visualization.draw_geometries([*pcds, *other_geometries])"
   ]
  },
  {
   "cell_type": "code",
   "execution_count": 30,
   "id": "9a6d3c69-34a5-4548-9cbb-44669b4a16f9",
   "metadata": {},
   "outputs": [],
   "source": [
    "out_pred = R @ src + t"
   ]
  },
  {
   "cell_type": "code",
   "execution_count": 31,
   "id": "ecfa5fec-1303-45f4-a2f0-9417ad1f3552",
   "metadata": {},
   "outputs": [],
   "source": [
    "draw_pcs([out_pred, out])"
   ]
  },
  {
   "cell_type": "code",
   "execution_count": 32,
   "id": "bff2c140-63e3-487b-b6a5-d26e99601752",
   "metadata": {},
   "outputs": [
    {
     "name": "stdout",
     "output_type": "stream",
     "text": [
      "Absolute alignment error = 5.18806710966509e-34\n"
     ]
    }
   ],
   "source": [
    "# absolute alignment error (MSE)\n",
    "mse = np.mean((R @ src + t - out) ** 2)\n",
    "print(\"Absolute alignment error =\", mse)"
   ]
  },
  {
   "cell_type": "markdown",
   "id": "dac6ea84-7293-488d-8014-ad2e75b4438b",
   "metadata": {},
   "source": [
    "### 2.2.4\n",
    "\n",
    "PDF attached (ProcrustesProof.pdf)"
   ]
  },
  {
   "cell_type": "markdown",
   "id": "e43b5b7c",
   "metadata": {},
   "source": [
    "## 2.2: ICP alignment\n",
    "\n",
    "1. Write a function that takes two point clouds as input without known correspondences and perform the iterative closest point algorithm.\n",
    "\n",
    "2. Perform the ICP alignment between the two bunnies and plot their individual coordinate frames as done in class.\n",
    "3. Does ICP always give the correct alignment? Why or Why not?\n",
    "4. What are other variants of ICP and why are they helpful (you can look at point to plane ICP)?"
   ]
  },
  {
   "cell_type": "markdown",
   "id": "85faa8e9-1d1a-4d14-865b-ec81d7fedbfa",
   "metadata": {},
   "source": [
    "### 2.2.1"
   ]
  },
  {
   "cell_type": "code",
   "execution_count": 73,
   "id": "a9aa963c-7b8b-4dae-91f3-bd061a07380d",
   "metadata": {},
   "outputs": [],
   "source": [
    "class ICP:\n",
    "    def __init__(self, _src, _out,\n",
    "                 # cf_src, cf_out ,\n",
    "                 iterations=100, tol=1e-4, voxel_size=0.005):\n",
    "        '''\n",
    "        Initialize ICP to get transformation src -> out\n",
    "        Arguments:\n",
    "            _src : o3d.geometery.PointCloud() -> Initial Point cloud\n",
    "            _out : o3d.geometery.PointCloud() -> Expected Point Cloud\n",
    "            cf_src: o3d.geometery.TriagleMesh() -> Co-ordinate frame attached to _src\n",
    "            cf_out: o3d.geometery.TriagleMesh() -> Co-ordinate frame attached to _out\n",
    "            iteration: int -> Number of max. iteration\n",
    "            tol: float -> Tolerent\n",
    "        '''\n",
    "        self.iterations = iterations\n",
    "        self.tol = tol\n",
    "        self.src_pcd = copy.deepcopy(_src)\n",
    "        self.out_pcd = copy.deepcopy(_out)\n",
    "        # self.cf_src = cf_src\n",
    "        # self.cf_out = cf_out\n",
    "        self.current = np.asarray(self.src_pcd.points).T\n",
    "        self.target = np.asarray(self.out_pcd.points).T\n",
    "        \n",
    "    def get_neighbours(self, src, out):\n",
    "        '''\n",
    "        Arguments:\n",
    "            src: np.ndarray(3xN)\n",
    "            out: np.ndarray(3xN)\n",
    "        '''\n",
    "        tree = KDTree(src.T)\n",
    "        _, inds = tree.query(out.T, k=1)\n",
    "        inds = inds.squeeze()\n",
    "        # print(inds.shape)\n",
    "        return inds\n",
    "        \n",
    "    def solve(self):\n",
    "        '''\n",
    "        Function to run ICP algorithm and return transformation src -> out\n",
    "        '''\n",
    "        # run iterations\n",
    "        Tr = np.eye(4)\n",
    "        prev_dist = 100\n",
    "        for i in range(self.iterations):\n",
    "            distance = np.mean(np.abs(self.current - self.target))\n",
    "            print(f\"Iteration {i}: {distance}\")\n",
    "            if distance > prev_dist:\n",
    "                print(\"Invalid initialization -> divergence\")\n",
    "                break\n",
    "            if i != 0 and prev_dist - distance < self.tol:\n",
    "                print(\"Tol reached on iteration\", i)\n",
    "                break\n",
    "            prev_dist = distance\n",
    "            inds = self.get_neighbours(self.current, self.target)\n",
    "            T, R, t = procrustes_aligment(self.current[:, inds], self.target)\n",
    "            \n",
    "            self.current = R @ self.current + t\n",
    "            Tr = T @ Tr\n",
    "            \n",
    "            # temp_pcd = copy.deepcopy(self.src_pcd)\n",
    "            # temp_pcd.transform(Tr)\n",
    "            # o3d.visualization.draw_geometries([temp_pcd, self.src_pcd, self.out_pcd])\n",
    "            \n",
    "        return Tr\n",
    "            "
   ]
  },
  {
   "cell_type": "markdown",
   "id": "fb29c1c9-5d9a-4306-b47a-f7600a8531d4",
   "metadata": {},
   "source": [
    "### 2.2.2"
   ]
  },
  {
   "cell_type": "code",
   "execution_count": 74,
   "id": "7b13d7a5-c64a-47d3-bd5e-f88a0634ddbe",
   "metadata": {},
   "outputs": [],
   "source": [
    "icp = ICP(src_pcd, out_pcd)"
   ]
  },
  {
   "cell_type": "code",
   "execution_count": 75,
   "id": "b7d4e5d0",
   "metadata": {},
   "outputs": [
    {
     "name": "stdout",
     "output_type": "stream",
     "text": [
      "Iteration 0: 0.08731711621986794\n",
      "Iteration 1: 0.0421162315259317\n",
      "Iteration 2: 0.03617714155496741\n",
      "Iteration 3: 0.032698958689626655\n",
      "Iteration 4: 0.030108661747436944\n",
      "Iteration 5: 0.027921203252987224\n",
      "Iteration 6: 0.026054199562968148\n",
      "Iteration 7: 0.02440118907248701\n",
      "Iteration 8: 0.022925064427695707\n",
      "Iteration 9: 0.021499820028478795\n",
      "Iteration 10: 0.020054527773847378\n",
      "Iteration 11: 0.018647622497315153\n",
      "Iteration 12: 0.017330248980832064\n",
      "Iteration 13: 0.016091883020898343\n",
      "Iteration 14: 0.014927405699892751\n",
      "Iteration 15: 0.013833189597168758\n",
      "Iteration 16: 0.012795365670174759\n",
      "Iteration 17: 0.011825641769592266\n",
      "Iteration 18: 0.010910021486378534\n",
      "Iteration 19: 0.010027123093564563\n",
      "Iteration 20: 0.009142023555564661\n",
      "Iteration 21: 0.008254938481277303\n",
      "Iteration 22: 0.007401675650093598\n",
      "Iteration 23: 0.00659684966045722\n",
      "Iteration 24: 0.005835199006274828\n",
      "Iteration 25: 0.005126533003272335\n",
      "Iteration 26: 0.004463942431430543\n",
      "Iteration 27: 0.0038546574952018644\n",
      "Iteration 28: 0.0033069613835411127\n",
      "Iteration 29: 0.002818471707576056\n",
      "Iteration 30: 0.0023945024991029445\n",
      "Iteration 31: 0.002027819643003152\n",
      "Iteration 32: 0.0017144962205976192\n",
      "Iteration 33: 0.0014453139838515269\n",
      "Iteration 34: 0.0012153998735050945\n",
      "Iteration 35: 0.0010196504889403693\n",
      "Iteration 36: 0.000853467791351863\n",
      "Iteration 37: 0.0007134907696650858\n",
      "Iteration 38: 0.0005947565512691926\n",
      "Iteration 39: 0.0004906686276863458\n",
      "Iteration 40: 0.00039209970620461614\n",
      "Tol reached on iteration 40\n"
     ]
    }
   ],
   "source": [
    "Tr = icp.solve()"
   ]
  },
  {
   "cell_type": "code",
   "execution_count": 76,
   "id": "24a612b7-638d-4130-bad6-c3ffa6403488",
   "metadata": {},
   "outputs": [],
   "source": [
    "R = Tr[:3,:3]\n",
    "t = Tr[:3, 3:4]"
   ]
  },
  {
   "cell_type": "code",
   "execution_count": 77,
   "id": "04ff17ba-02e5-4dda-a3b4-d5ee16ea44c6",
   "metadata": {},
   "outputs": [
    {
     "data": {
      "text/plain": [
       "TriangleMesh with 1134 points and 2240 triangles."
      ]
     },
     "execution_count": 77,
     "metadata": {},
     "output_type": "execute_result"
    }
   ],
   "source": [
    "cf_now = copy.deepcopy(cf_src)\n",
    "cf_now.transform(Tr)"
   ]
  },
  {
   "cell_type": "code",
   "execution_count": 78,
   "id": "c86f1e2d-9734-4ee7-b0c5-f839792ec17a",
   "metadata": {},
   "outputs": [],
   "source": [
    "src = np.asarray(src_pcd.points).T\n",
    "out_pred = R @ src + t\n",
    "out = np.asarray(out_pcd.points).T"
   ]
  },
  {
   "cell_type": "code",
   "execution_count": 79,
   "id": "7513ad73-506a-4dd4-8480-490c71228850",
   "metadata": {},
   "outputs": [],
   "source": [
    "draw_pcs([out_pred], out_pcd, cf_now, cf_out)"
   ]
  },
  {
   "cell_type": "code",
   "execution_count": 80,
   "id": "94bb6b65-8181-4ab5-83fc-3b20ed90d810",
   "metadata": {},
   "outputs": [
    {
     "name": "stdout",
     "output_type": "stream",
     "text": [
      "MSE = 2.2018506363558907e-07\n"
     ]
    }
   ],
   "source": [
    "mse = np.mean((out_pred - out)**2)\n",
    "print(\"MSE =\",mse)"
   ]
  },
  {
   "cell_type": "markdown",
   "id": "8de84826-88b2-40cb-9e98-827722bcdb6e",
   "metadata": {},
   "source": [
    "### 2.2.3"
   ]
  },
  {
   "cell_type": "markdown",
   "id": "f7433692-ede5-4e55-b912-ebf32e14095e",
   "metadata": {},
   "source": [
    "No, ICP does not necessarily give the correct alignment. Following are some cases\n",
    "1. 2 Point Clouds have reflection has trasformation b/w them. No rotation can result in reflect\n",
    "2. If correspondences are unknown, the alignment may be wrong due to matching of incorrect pairs, specially in cases where there is large transformation involved"
   ]
  },
  {
   "cell_type": "markdown",
   "id": "013f5c30-11d7-431d-a319-7acc5d6fa8ad",
   "metadata": {},
   "source": [
    "### 2.2.4\n"
   ]
  },
  {
   "cell_type": "markdown",
   "id": "0e738dab-9b7f-4c82-98f7-78c38d86b9cf",
   "metadata": {},
   "source": [
    "ICP has several variants based on the methods used for 1 or more of the below stages of the algorithm.\n",
    "\n",
    "1. **Selecting source points for correspondences in 2 PCs**: Variations can be: All points (robust), uniform sub-sampling, random sampling, normal sampling. Normal sampling is easy to implement + converges faster\n",
    "2. **Matching of points (finding correspondences)**: Variations can be: Closest point (most robust), normal shooting (beneficial in some cases), projection (fastest) etc.\n",
    "3. **Rejection of certain outlier point pairs**: Rejecting of some points which are far by some threshold, helps in removing some faulty correspondences\n",
    "4. **Assigning an error metric for each iteration**: Point-to-point error, point-to-plane error. The point-to-plane error variant is the best as it is faster and more robust, i.e. it is more likely to converge to the minima"
   ]
  },
  {
   "cell_type": "code",
   "execution_count": null,
   "id": "5279713f-4c6d-4a67-9801-084f8bfffe9b",
   "metadata": {},
   "outputs": [],
   "source": []
  },
  {
   "cell_type": "code",
   "execution_count": null,
   "id": "b31708b1-13ef-4c97-b8b2-26e480eb4a92",
   "metadata": {},
   "outputs": [],
   "source": []
  }
 ],
 "metadata": {
  "kernelspec": {
   "display_name": "Python 3 (ipykernel)",
   "language": "python",
   "name": "python3"
  },
  "language_info": {
   "codemirror_mode": {
    "name": "ipython",
    "version": 3
   },
   "file_extension": ".py",
   "mimetype": "text/x-python",
   "name": "python",
   "nbconvert_exporter": "python",
   "pygments_lexer": "ipython3",
   "version": "3.8.12"
  }
 },
 "nbformat": 4,
 "nbformat_minor": 5
}
