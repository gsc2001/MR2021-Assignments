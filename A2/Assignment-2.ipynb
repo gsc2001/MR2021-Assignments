{
 "cells": [
  {
   "cell_type": "markdown",
   "id": "e2e806d4",
   "metadata": {},
   "source": [
    "# Assignment - 2: Data Representation and Point Cloud Operations\n",
    "\n",
    "Team Name: \\<team name here\\> \n",
    "\n",
    "Roll number: \\<Roll number here (in sorted order)\\>"
   ]
  },
  {
   "cell_type": "markdown",
   "id": "1e42e4d4",
   "metadata": {},
   "source": [
    "# Instructions\n",
    "\n",
    "- Code must be written in Python in Jupyter Notebooks. We highly recommend using anaconda distribution or at the minimum, virtual environments for this assignment.\n",
    "- Save all your results in ```results/<question_number>/<sub_topic_number>/```\n",
    "- The **References** section provides you with important resources to solve the assignment.\n",
    "- Make sure your code is modular since you may need to reuse parts for future assignments.\n",
    "- Answer the descriptive questions in your own words with context & clarity. Do not copy answers from online resources or lecture notes.\n",
    "- The **deadline** for this assignment is on 26/09/2021 at 11:55pm. Please note that there will be no extensions.\n",
    "- Plagiarism is **strictly prohibited**."
   ]
  },
  {
   "cell_type": "markdown",
   "id": "bb6ccd58",
   "metadata": {},
   "source": [
    "# Submission Instructions\n",
    "\n",
    "1. Make sure your code runs without any errors after reinitializing the kernel and removing all saved variables.\n",
    "2. After completing your code and saving your results, zip the folder with name as ``Team_<team_name>_MR2021_Assignment_<assignment_number>.zip``"
   ]
  },
  {
   "cell_type": "code",
   "execution_count": 1,
   "id": "b40d245c",
   "metadata": {},
   "outputs": [
    {
     "name": "stdout",
     "output_type": "stream",
     "text": [
      "Jupyter environment detected. Enabling Open3D WebVisualizer.\n",
      "[Open3D INFO] WebRTC GUI backend enabled.\n",
      "[Open3D INFO] WebRTCWindowSystem: HTTP handshake server disabled.\n"
     ]
    }
   ],
   "source": [
    "import numpy as np\n",
    "import matplotlib.pyplot as plt\n",
    "import cv2\n",
    "import open3d as o3d"
   ]
  },
  {
   "cell_type": "markdown",
   "id": "1f85262a",
   "metadata": {},
   "source": [
    "# Introduction to types of Transformations and Homogeneous coordinates\n",
    "\n",
    "In robotics applications, it is inevitable to keep track of the frames of multiple objects/worlds. These frames can be transformations from one coordinate frame to the other. **Homogeneous coordinates** help in keeping track of various coordinate frames and allow performing composition of various transforms. We will first try to understand between types of transformations and their invariant properties.\n",
    "1. What is the difference between Affine, Similarity, and Euclidean transform? What are the invariant properities of each type of transform?\n",
    "2. Watch this [video](https://www.youtube.com/watch?v=PvEl63t-opM) to briefly understand homogeneous coordinates. What are points at infinity? What type of transformation can you apply to transform a point from infinity to a point that is not at infinity? \n",
    "3. Using homogeneous coordinates we can represent different types of transformation as point transforms vs. frame transforms. Concatenation of transforms (whether you post multiply transformation matrices or pre-multiply transformation matrices) depends on the problem and how you are viewing it. Try to understand the difference between frame vs. point transformations from this [video](https://youtu.be/Za7Sdegf8m8?t=1834). Let's assume that our camera and world frames are coinciding with each other. We need to estimate the camera to world **frame** transformation matrix after applying the transformations defined below in terms of $T_i$.We apply **frame** transform to move the camera in the world in the following order:\n",
    "    1. $T_1$ from the camera coordinate frame.\n",
    "    2. $T_2$ from the world coordinate frame.\n",
    "    3. $T_3$ from the world coordinate frame.\n",
    "    4. $T_4$ from the camera coordinate frame.\n",
    "    5. $T_5$ from the camera coordinate frame.\n"
   ]
  },
  {
   "cell_type": "markdown",
   "id": "3eddc6de-3691-4bc3-b5b6-165aeb46a8c8",
   "metadata": {},
   "source": [
    "## Solution\n",
    "\n",
    "3. We want camera to world *frame* transformation matrix  = $T^C_W$ <br>\n",
    "\n",
    "Initialy, camera and world frame coincide, $T_{initial} = I$\n",
    "- $T_1$ *frame* transformation from camera frame $ T^W_{C_A} = I.T_1 $\n",
    "- $T_2$ *frame* transformation from world frame $ T^W_{C_B} = T_2.I.T_1 $\n",
    "- $T_3$ *frame* transformation from world frame $ T^W_{C_C} = T_3.T_2.I.T_1 $\n",
    "- $T_4$ *frame* transformation from camera frame $ T^W_{C_D} = T_3.T_2.I.T_1.T_4 $\n",
    "- $T_5$ *frame* transformation from camera frame $ T^W_{C_E} = T_3.T_2.I.T_1.T_4.T_5 $\n",
    "<br>\n",
    "As $C_E$ is final camera frame. Finally, $T_C^W = T_3.T_2.T_1.T_4.T_5$\n",
    "\n",
    "Now,\n",
    "$$\n",
    "\\begin{align*}\n",
    "    T^C_W  & = (T_C^W)^{-1} \\\\ \n",
    "           & = T_5^{-1}.T_4^{-1}.T_1^{-1}.T_2^{-1}.T_3^{-1} \n",
    "\\end{align*}\n",
    "$$\n",
    "\n",
    "Camera to world *frame* transformation matrix ($T^C_W$),\n",
    "$$\n",
    "           T^C_W = T_5^{-1}.T_4^{-1}.T_1^{-1}.T_2^{-1}.T_3^{-1} \n",
    "$$\n",
    "    \n"
   ]
  },
  {
   "cell_type": "markdown",
   "id": "e5f08d84",
   "metadata": {},
   "source": [
    "# Visualise the Data\n",
    "\n",
    "Point clouds are a collection of points that represent a 3D shape or feature. Each point has its own set of X, Y and Z coordinates and in some cases additional attributes. A popular way to obtain this is by photogrammetry, though here we will use LiDAR data.\n",
    "\n",
    "LiDAR is a remote sensing process which collects measurements used to create 3D models and maps of objects and environments. Using ultraviolet, visible, or near-infrared light, LiDAR gauges spatial relationships and shapes by measuring the time it takes for signals to bounce off objects and return to the scanner.\n",
    "\n",
    "1. Download the data from [here](https://iiitaphyd-my.sharepoint.com/:f:/g/personal/venkata_surya_students_iiit_ac_in/EnYAMaTVIhJItzKYqtahE30BRKB6p6UfHN3TyJzvo6Mw0g?e=PegWds). It contains the LIDAR sensor output and odometry information per frame.\n",
    "\n",
    "    The .bin files contain the 3D point cloud captured by the LIDAR in this format - x, y, z, and reflectance. \n",
    "\n",
    "    The odometry information is given in the `odometry.txt` file, which is a 12 element vector. Reshape each of the first 77 rows to a 3x4 matrix to obtain the pose.\n",
    "    \n",
    "\n",
    "2. Obtain the point cloud from this and visualise for 1-2 frames."
   ]
  },
  {
   "cell_type": "code",
   "execution_count": 19,
   "id": "directed-termination",
   "metadata": {},
   "outputs": [],
   "source": [
    "getPointCloudObj = lambda pcd : o3d.geometry.PointCloud(o3d.utility.Vector3dVector(pcd))\n",
    "pcd_l = []\n",
    "for i in range(77):\n",
    "    raw_pcd = np.fromfile(f'./data/data/LiDAR/0000{i + 10}.bin', dtype=np.float32)\n",
    "    pcd = raw_pcd.reshape((-1,4))[::10, :3]\n",
    "    pcd_l.append(getPointCloudObj(pcd))"
   ]
  },
  {
   "cell_type": "code",
   "execution_count": 20,
   "id": "8efc5c88-451d-4495-8bd0-12a269f34119",
   "metadata": {},
   "outputs": [],
   "source": [
    "o3d.visualization.draw_geometries([pcd_l[1]])"
   ]
  },
  {
   "cell_type": "code",
   "execution_count": 4,
   "id": "20cb08f3-e4bc-40ad-9b72-90906a9d097e",
   "metadata": {},
   "outputs": [],
   "source": [
    "raw_poses = np.loadtxt('data/data/odometry.txt')\n",
    "poses = raw_poses[:77].reshape(-1, 3,4)\n",
    "poses = np.hstack((poses, np.array([[[0,0,0,1]]] * poses.shape[0])))"
   ]
  },
  {
   "cell_type": "markdown",
   "id": "hairy-riverside",
   "metadata": {},
   "source": [
    "# Transform \n",
    "\n",
    "The point cloud obtained is with respect to the LiDAR frame. The poses however, are in the camera frame. If we want to combine the point clouds from various frames, we need to bring them to the camera frame. \n",
    "\n",
    "1. Refer to the image below and apply the required transformation to the point cloud. \n",
    "\n",
    "2. Then, register all point clouds into a common reference frame and visualise it (Open3D). It is helpful to use homogeneous coordinates to keep track of the different frames.\n",
    "\n",
    "3. Write a function to transform the registered point cloud from the world to the $i^{th}$ camera frame, wherein $i$ is the input to the function.\n",
    "\n",
    "4. \\[Bonus\\] Move around in the registered point cloud using arrow keys like you would do in a game. For this you will have to regularly transform the entire registered world to your current camera frame and visualize repeatedly. You may choose to avoid visualizing points that are behind the camera in this case as they are not visible from the scene. You may also visualize points at a max depth to make the process easier.\n",
    "\n",
    "![](./img/transform.png)"
   ]
  },
  {
   "cell_type": "code",
   "execution_count": 21,
   "id": "691239dc-ff6f-45d3-8fbd-fe00a2fe9410",
   "metadata": {},
   "outputs": [],
   "source": [
    "import copy"
   ]
  },
  {
   "cell_type": "code",
   "execution_count": 22,
   "id": "second-school",
   "metadata": {},
   "outputs": [],
   "source": [
    "# 1.\n",
    "# Convention\n",
    "# LiDAR -> l\n",
    "# Camera -> ci\n",
    "# World -> w\n",
    "# Tba -> T_a^b\n",
    "\n",
    "T_cil = np.array([[0,-1,0, 0], [0,0,-1 ,0 ],[1,0,0, 0],[0,0,0,1]]) # T_cil = Rz(90)*Ry(-90)\n",
    "pcd_ci = []\n",
    "\n",
    "for _pcd in pcd_l:\n",
    "    pcd = copy.deepcopy(_pcd)\n",
    "    pcd.transform(T_cil)\n",
    "    pcd_ci.append(pcd)\n",
    "\n",
    "# pcd_ci is pcd in camera co-ordinates in app the frame"
   ]
  },
  {
   "cell_type": "code",
   "execution_count": 26,
   "id": "29e3a5a1-b16f-4cb0-b443-87d7ebfb369e",
   "metadata": {},
   "outputs": [],
   "source": [
    "# 2.\n",
    "pcd_w_l= []\n",
    "pcd_w = o3d.geometry.PointCloud()\n",
    "# frame_n = 0\n",
    "for pose, _pcd in zip(poses, pcd_ci):\n",
    "    pcd = copy.deepcopy(_pcd)\n",
    "    pcd.transform(pose)\n",
    "    pcd_w += pcd\n",
    "    pcd_w_l.append(pcd)"
   ]
  },
  {
   "cell_type": "code",
   "execution_count": 27,
   "id": "25e85029-c707-4af4-b8bd-9ceaff044261",
   "metadata": {},
   "outputs": [],
   "source": [
    "# pcd_w is total registered point cloud\n",
    "o3d.visualization.draw_geometries([pcd_w])"
   ]
  },
  {
   "cell_type": "code",
   "execution_count": 28,
   "id": "8172f3c8-ae0e-4ca5-be6a-b109960a0b4d",
   "metadata": {},
   "outputs": [],
   "source": [
    "# 3.\n",
    "def transform_to_i(i):\n",
    "    pcd = copy.deepcopy(pcd_w)\n",
    "    # T_W^C = T_C^W-1\n",
    "    T_ciw = np.linalg.inv(poses[i])\n",
    "    pcd.transform(T_ciw)\n",
    "    \n",
    "    return pcd"
   ]
  },
  {
   "cell_type": "code",
   "execution_count": 29,
   "id": "d92f5004-b709-4897-a95e-db7d2944ee10",
   "metadata": {},
   "outputs": [],
   "source": [
    "# 4.\n",
    "# press D to initialize then\n",
    "# A for prev\n",
    "# D for next\n",
    "\n",
    "i = 0\n",
    "geometery = copy.deepcopy(transform_to_i(0))\n",
    "def moveNext(vis):\n",
    "    global i\n",
    "    control = vis.get_view_control()\n",
    "    control.set_up([0,-1,0])\n",
    "    control.set_lookat([0,0,-1])\n",
    "    control.set_front([0,0,-1])\n",
    "    control.set_zoom(0.01)\n",
    "    if i == 76:\n",
    "        return\n",
    "    i+= 1\n",
    "    pcd = np.asarray(transform_to_i(i).points)\n",
    "    geometery.points = o3d.utility.Vector3dVector(pcd[pcd[:,2] >= 0])\n",
    "    vis.update_geometry(geometery)\n",
    "    return False\n",
    "def moveBack(vis):\n",
    "    global i\n",
    "    control = vis.get_view_control()\n",
    "    control.set_up([0,-1,0])\n",
    "    control.set_lookat([0,0,-1])\n",
    "    control.set_front([0,0,-1])\n",
    "    control.set_zoom(0.01)\n",
    "    if i == 0:\n",
    "        return\n",
    "    i-= 1\n",
    "    pcd = np.asarray(transform_to_i(i).points)\n",
    "    geometery.points = o3d.utility.Vector3dVector(pcd[pcd[:,2] >= 0])\n",
    "    vis.update_geometry(geometery)\n",
    "    return False\n",
    "\n",
    "callbacks = {\n",
    "    ord(\"D\"): moveNext,\n",
    "    ord(\"A\"): moveBack\n",
    "}\n",
    "\n",
    "o3d.visualization.draw_geometries_with_key_callbacks([geometery], callbacks)"
   ]
  },
  {
   "cell_type": "markdown",
   "id": "personal-divorce",
   "metadata": {},
   "source": [
    "# Occupancy Map"
   ]
  },
  {
   "cell_type": "markdown",
   "id": "overhead-discussion",
   "metadata": {},
   "source": [
    "Occupancy grid maps are discrete fine grain grid maps. These maps can be either 2-D or 3-D. Each cell in the occupancy grid map contains information on the physical objects present in the corresponding space. Since these maps shed light on what parts of the environment are occupied, and what is not, they are really useful for path planning and navigation.\n",
    "\n",
    "Occupancy grid maps are probabilistic in nature due to noisy measurements. Each cell can have three states: Occupied, unoccupied, and unknown. For the purpose of this assignment, you can ignore the unknown and work in a binary setting where 1 is occupied and 0 is unoccupied."
   ]
  },
  {
   "cell_type": "markdown",
   "id": "rental-display",
   "metadata": {},
   "source": [
    "1. The task here is to create an occupancy map for each LiDAR scan. You do not need to apply bayesian update rules here, just keep it simple. \n",
    "\n",
    "2. Now, using the *registered* point cloud, generate occupancy maps for each frame. What difference do you expect to see between the two methods?\n",
    "\n",
    "You can mark a cell as occupied based on a threshold of how many different z values are there for a particular (x,y) cell."
   ]
  },
  {
   "cell_type": "code",
   "execution_count": 30,
   "id": "f6f0ea83-7b2b-4b87-84d3-69f928cc7ad2",
   "metadata": {},
   "outputs": [],
   "source": [
    "# 1.\n",
    "frame = 0\n",
    "for pcd in pcd_l:\n",
    "    points = copy.deepcopy(np.asarray(pcd.points))\n",
    "    # points[:,1] = points[:,2]\n",
    "    points = points[:,:2]\n",
    "    points -= points.min()\n",
    "    points = np.round(points).astype('int')\n",
    "    h = points[:,1].max() + 10\n",
    "    w = points[:,0].max() + 10\n",
    "    occ = np.zeros((h,w))\n",
    "    for point in points:\n",
    "        occ[point[1], point[0]] += 1\n",
    "    image = np.zeros(occ.shape)\n",
    "    image[occ > 3] = 255\n",
    "    cv2.imwrite('results/LiDAR occupancy/' + str(frame) + '.png', image)\n",
    "    frame += 1\n",
    "    "
   ]
  },
  {
   "cell_type": "code",
   "execution_count": 31,
   "id": "e8d11416-1ae0-4599-9cf1-c01986ea3082",
   "metadata": {},
   "outputs": [],
   "source": [
    "# 2.\n",
    "frame = 0\n",
    "for pose in poses:\n",
    "    points = copy.deepcopy(pcd_w)\n",
    "    points.transform(np.linalg.inv(pose))\n",
    "    points = np.asarray(points.points)\n",
    "    points[:,1] = points[:,2]\n",
    "    points = points[:,:2]\n",
    "    points -= points.min()\n",
    "    points = np.round(points).astype('int')\n",
    "    h = points[:,1].max() + 10\n",
    "    w = points[:,0].max() + 10\n",
    "    occ = np.zeros((h,w))\n",
    "    for point in points:\n",
    "        occ[point[1], point[0]] += 1\n",
    "    image = np.zeros(occ.shape)\n",
    "    image[occ > occ.max() * 2 / 3 ] = 255\n",
    "    cv2.imwrite('results/Total occupancy/' + str(frame) + '.png', image)\n",
    "    frame += 1"
   ]
  },
  {
   "cell_type": "markdown",
   "id": "b96419f7-a0b6-4b5c-8683-24c74b554c3e",
   "metadata": {},
   "source": [
    "Occupancy map in part 2 is more robust and more dense due to presence of more data points"
   ]
  },
  {
   "cell_type": "code",
   "execution_count": null,
   "id": "ea5e5132-98f5-4649-a666-ac3a3150987d",
   "metadata": {},
   "outputs": [],
   "source": []
  }
 ],
 "metadata": {
  "kernelspec": {
   "display_name": "Python 3 (ipykernel)",
   "language": "python",
   "name": "python3"
  },
  "language_info": {
   "codemirror_mode": {
    "name": "ipython",
    "version": 3
   },
   "file_extension": ".py",
   "mimetype": "text/x-python",
   "name": "python",
   "nbconvert_exporter": "python",
   "pygments_lexer": "ipython3",
   "version": "3.8.12"
  }
 },
 "nbformat": 4,
 "nbformat_minor": 5
}
